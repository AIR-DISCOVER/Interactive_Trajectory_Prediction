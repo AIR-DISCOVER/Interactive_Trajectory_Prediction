{
 "cells": [
  {
   "cell_type": "code",
   "execution_count": 1,
   "id": "cd4d2464-fd6b-472a-bab8-fa7c410492bd",
   "metadata": {},
   "outputs": [],
   "source": [
    "import math"
   ]
  },
  {
   "cell_type": "code",
   "execution_count": 4,
   "id": "f7ac1cff-c19f-4506-9e11-5f233e9a84f5",
   "metadata": {},
   "outputs": [
    {
     "data": {
      "text/plain": [
       "8.068897016071354"
      ]
     },
     "execution_count": 4,
     "metadata": {},
     "output_type": "execute_result"
    }
   ],
   "source": [
    "math.degrees(math.acos(0.9901))"
   ]
  },
  {
   "cell_type": "code",
   "execution_count": 5,
   "id": "9e575ae8-d36a-4a30-8f9f-11de55c70703",
   "metadata": {},
   "outputs": [
    {
     "data": {
      "text/plain": [
       "16.664571373819136"
      ]
     },
     "execution_count": 5,
     "metadata": {},
     "output_type": "execute_result"
    }
   ],
   "source": [
    "math.degrees(math.acos(0.9580))"
   ]
  },
  {
   "cell_type": "code",
   "execution_count": null,
   "id": "10952456-663a-4b91-a0d3-e0cbff806d8d",
   "metadata": {},
   "outputs": [],
   "source": []
  }
 ],
 "metadata": {
  "kernelspec": {
   "display_name": "Python 3 (ipykernel)",
   "language": "python",
   "name": "python3"
  },
  "language_info": {
   "codemirror_mode": {
    "name": "ipython",
    "version": 3
   },
   "file_extension": ".py",
   "mimetype": "text/x-python",
   "name": "python",
   "nbconvert_exporter": "python",
   "pygments_lexer": "ipython3",
   "version": "3.8.13"
  }
 },
 "nbformat": 4,
 "nbformat_minor": 5
}
